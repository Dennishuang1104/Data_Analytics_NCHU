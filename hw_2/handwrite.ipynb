{
 "cells": [
  {
   "cell_type": "code",
   "execution_count": 86,
   "id": "0dd0ce15-0941-49ea-9186-1cc098a57cb0",
   "metadata": {},
   "outputs": [
    {
     "name": "stdout",
     "output_type": "stream",
     "text": [
      "train 資料形狀: (7291, 256), 標籤形狀: (7291,)\n"
     ]
    },
    {
     "name": "stderr",
     "output_type": "stream",
     "text": [
      "/var/folders/j6/pkpjgg_54_7_2n3cckcrx4dc4tt_t5/T/ipykernel_70115/2134163160.py:60: UserWarning: Glyph 25976 (\\N{CJK UNIFIED IDEOGRAPH-6578}) missing from current font.\n",
      "  plt.savefig(os.path.join(preview_folder, f\"preview_{digit_count}.png\"))\n",
      "/var/folders/j6/pkpjgg_54_7_2n3cckcrx4dc4tt_t5/T/ipykernel_70115/2134163160.py:60: UserWarning: Glyph 23383 (\\N{CJK UNIFIED IDEOGRAPH-5B57}) missing from current font.\n",
      "  plt.savefig(os.path.join(preview_folder, f\"preview_{digit_count}.png\"))\n"
     ]
    },
    {
     "name": "stdout",
     "output_type": "stream",
     "text": [
      "已完成train集的處理，共7291張圖片\n",
      "test 資料形狀: (2007, 256), 標籤形狀: (2007,)\n",
      "已完成test集的處理，共2007張圖片\n",
      "所有圖片已保存到 usps_images 資料夾\n"
     ]
    }
   ],
   "source": [
    "import h5py\n",
    "import numpy as np\n",
    "from PIL import Image\n",
    "import os\n",
    "import matplotlib.pyplot as plt\n",
    "\n",
    "# 讀取.h5檔案\n",
    "file_path = \"usps.h5\"  # 您的檔案路徑\n",
    "output_folder = \"usps_images\"  # 輸出資料夾\n",
    "\n",
    "# 創建輸出目錄結構\n",
    "os.makedirs(output_folder, exist_ok=True)\n",
    "for dataset in [\"train\", \"test\"]:\n",
    "    for digit in range(10):\n",
    "        os.makedirs(os.path.join(output_folder, dataset, str(digit)), exist_ok=True)\n",
    "\n",
    "# 開啟.h5檔案並提取圖片\n",
    "with h5py.File(file_path, \"r\") as f:\n",
    "    # 處理訓練集和測試集\n",
    "    for dataset in [\"train\", \"test\"]:\n",
    "        # 獲取資料和標籤\n",
    "        data = f[f\"{dataset}/data\"][:]\n",
    "        labels = f[f\"{dataset}/target\"][:]\n",
    "        \n",
    "        print(f\"{dataset} 資料形狀: {data.shape}, 標籤形狀: {labels.shape}\")\n",
    "        \n",
    "        # 對於每張圖片\n",
    "        for i in range(len(data)):\n",
    "            img = data[i]\n",
    "            label = int(labels[i])  # 確保標籤是整數\n",
    "            \n",
    "            # 將標準化的0-1值轉換為0-255值\n",
    "            img_scaled = (img * 255).astype(np.uint8)\n",
    "            \n",
    "            # 將圖片重塑為正方形（如果需要）\n",
    "            if len(img.shape) == 1:\n",
    "                # 猜測圖片的維度（假設是正方形）\n",
    "                img_size = int(np.sqrt(img.shape[0]))\n",
    "                img_scaled = img_scaled.reshape(img_size, img_size)\n",
    "            \n",
    "            # 創建PIL圖片\n",
    "            img_pil = Image.fromarray(img_scaled)\n",
    "            \n",
    "            # 保存路徑\n",
    "            save_path = os.path.join(output_folder, dataset, str(label), f\"image_{i}.png\")\n",
    "            \n",
    "            # 保存圖片\n",
    "            img_pil.save(save_path)\n",
    "            \n",
    "            # 為每個數字類別生成少量預覽（每個類別的前3張）\n",
    "            digit_count = sum(1 for j in range(i) if int(labels[j]) == label)\n",
    "            if digit_count < 3:\n",
    "                preview_folder = os.path.join(output_folder, \"previews\", dataset, str(label))\n",
    "                os.makedirs(preview_folder, exist_ok=True)\n",
    "                \n",
    "                plt.figure(figsize=(3, 3))\n",
    "                plt.imshow(img.reshape(img_size, img_size) if len(img.shape) == 1 else img, cmap='gray')\n",
    "                plt.title(f\"{dataset} - 數字 {label}\")\n",
    "                plt.axis('off')\n",
    "                plt.savefig(os.path.join(preview_folder, f\"preview_{digit_count}.png\"))\n",
    "                plt.close()\n",
    "        \n",
    "        print(f\"已完成{dataset}集的處理，共{len(data)}張圖片\")\n",
    "\n",
    "print(f\"所有圖片已保存到 {output_folder} 資料夾\")\n"
   ]
  },
  {
   "cell_type": "code",
   "execution_count": 65,
   "id": "a189ec09-e6ca-4094-a162-d3f0de36a8ae",
   "metadata": {},
   "outputs": [
    {
     "name": "stdout",
     "output_type": "stream",
     "text": [
      "Min: 0.0\n",
      "Max: 1.0\n"
     ]
    }
   ],
   "source": [
    "import h5py\n",
    "import numpy as np\n",
    "\n",
    "with h5py.File(\"usps.h5\", \"r\") as f:\n",
    "    images = np.array(f[\"train/data\"])\n",
    "    print(\"Min:\", images.min())\n",
    "    print(\"Max:\", images.max())\n"
   ]
  },
  {
   "cell_type": "code",
   "execution_count": 55,
   "id": "923fdf31-65d4-4f1c-94f9-d09f50445837",
   "metadata": {},
   "outputs": [
    {
     "name": "stdout",
     "output_type": "stream",
     "text": [
      "test\n",
      "test/data\n",
      "test/target\n",
      "train\n",
      "train/data\n",
      "train/target\n"
     ]
    }
   ],
   "source": [
    "with h5py.File(\"usps.h5\", \"r\") as f:\n",
    "    def print_h5_structure(name, obj):\n",
    "        print(name)\n",
    "\n",
    "    f.visititems(print_h5_structure)"
   ]
  },
  {
   "cell_type": "code",
   "execution_count": 23,
   "id": "ca77e7d5-f0c3-42f6-a9c7-4d0ab6a10596",
   "metadata": {},
   "outputs": [],
   "source": [
    "import h5py\n",
    "\n",
    "import pandas as pd\n",
    "import numpy as np\n",
    "import matplotlib.pyplot as plt\n",
    "import h5py\n",
    "from sktensor import dtensor\n",
    "from sktensor.tucker import hooi\n",
    "\n",
    "path = 'usps.h5'\n",
    "def read_file_get_dataset():\n",
    "    with h5py.File(\"usps.h5\", 'r') as hf:\n",
    "        train = hf.get('train')\n",
    "        train_x = train.get('data')[:]\n",
    "        train_y = train.get('target')[:]\n",
    "\n",
    "        test = hf.get('test')\n",
    "        test_x = test.get('data')[:]\n",
    "        test_y = test.get('target')[:]\n",
    "\n",
    "        return train_x, train_y, test_x, test_y\n",
    "\n",
    "TRAIN_X, TRAIN_Y, TEST_X, TEST_Y = read_file_get_dataset()\n"
   ]
  },
  {
   "cell_type": "code",
   "execution_count": 25,
   "id": "35b8a35c-d0c5-4c65-820a-12dcff46f0cd",
   "metadata": {},
   "outputs": [
    {
     "name": "stdout",
     "output_type": "stream",
     "text": [
      "TRAIN_X.shape = (7291, 256)\n",
      "TRAIN_Y.shape = (7291,)\n",
      "TEST_X.shape = (2007, 256)\n",
      "TEST_Y.shape = (2007,)\n"
     ]
    }
   ],
   "source": [
    "dict = {\n",
    "    \"TRAIN_X\": TRAIN_X,\n",
    "    \"TRAIN_Y\": TRAIN_Y,\n",
    "    \"TEST_X\": TEST_X,\n",
    "    \"TEST_Y\": TEST_Y,\n",
    "}\n",
    "\n",
    "def get_target_shape(key):\n",
    "  return dict[key].shape\n",
    "\n",
    "for key in dict:\n",
    "  print(f\"{key}.shape = {get_target_shape(key)}\")"
   ]
  },
  {
   "cell_type": "code",
   "execution_count": 27,
   "id": "83bfcc18-e5bf-4876-9b6a-8dcb03511534",
   "metadata": {},
   "outputs": [
    {
     "name": "stdout",
     "output_type": "stream",
     "text": [
      "Collecting git+https://github.com/yo02741/scikit-tensor-py3.git\n",
      "  Cloning https://github.com/yo02741/scikit-tensor-py3.git to /private/var/folders/j6/pkpjgg_54_7_2n3cckcrx4dc4tt_t5/T/pip-req-build-hcek0tlq\n",
      "  Running command git clone --filter=blob:none --quiet https://github.com/yo02741/scikit-tensor-py3.git /private/var/folders/j6/pkpjgg_54_7_2n3cckcrx4dc4tt_t5/T/pip-req-build-hcek0tlq\n",
      "  Resolved https://github.com/yo02741/scikit-tensor-py3.git to commit ff8b6b018f358a7ab209c5e89ddf23a086e20089\n",
      "  Preparing metadata (setup.py) ... \u001b[?25ldone\n",
      "\u001b[?25hRequirement already satisfied: numpy>=1.16 in /Users/dennis_huang/opt/anaconda3/lib/python3.9/site-packages (from scikit-tensor-py3==0.4.1) (1.19.4)\n",
      "Requirement already satisfied: scipy>=1.3 in /Users/dennis_huang/opt/anaconda3/lib/python3.9/site-packages (from scikit-tensor-py3==0.4.1) (1.7.3)\n",
      "\u001b[33mWARNING: Error parsing dependencies of requests-oauthlib: [Errno 2] No such file or directory: '/Users/dennis_huang/opt/anaconda3/lib/python3.9/site-packages/requests_oauthlib-1.3.0.dist-info/METADATA'\u001b[0m\u001b[33m\n",
      "\u001b[0m"
     ]
    }
   ],
   "source": [
    "!pip install git+https://github.com/yo02741/scikit-tensor-py3.git"
   ]
  },
  {
   "cell_type": "code",
   "execution_count": 28,
   "id": "4bf51b33-2528-4d43-a2ba-2c775b933df1",
   "metadata": {},
   "outputs": [],
   "source": [
    "def getSandUList(x_Data, y_Data):\n",
    "    \"\"\"\n",
    "    對每個數字類別（0~9）進行張量分解（HOOI），以萃取其特徵表示，回傳每個類別的核心張量 (S) 與 factor matrices (U)。\n",
    "    \"\"\"\n",
    "    x_Data = x_Data.astype('float32') / 255. #做正規化\n",
    "    x_Data = x_Data.reshape((len(x_Data), np.prod(x_Data.shape[1:])))\n",
    "\n",
    "    x_list = []\n",
    "\n",
    "    for k in range(10):\n",
    "        components = np.where(y_Data == k)[0]\n",
    "        x_list.append(x_Data[components, :])\n",
    "\n",
    "    S_list = []\n",
    "    U_list = []\n",
    "\n",
    "    for k in range(10):\n",
    "\n",
    "        tensor = np.zeros((16, 16, x_list[k].shape[0]))\n",
    "\n",
    "        for i in range(x_list[k].shape[0]):\n",
    "            tensor[:,:,i] = x_list[k][i][:].reshape([16, 16])\n",
    "\n",
    "        A = dtensor(tensor)\n",
    "        S, U = hooi(A, A.shape, init='nvecs')\n",
    "\n",
    "        S_list.append(S)\n",
    "        U_list.append(U)\n",
    "    \n",
    "    return S_list, U_list"
   ]
  },
  {
   "cell_type": "code",
   "execution_count": 29,
   "id": "8fefea1f-6e23-4ad8-be84-efbc4dbaeae5",
   "metadata": {},
   "outputs": [
    {
     "name": "stderr",
     "output_type": "stream",
     "text": [
      "/Users/dennis_huang/opt/anaconda3/lib/python3.9/site-packages/sktensor/tucker.py:113: RuntimeWarning: invalid value encountered in sqrt\n",
      "  normresidual = np.sqrt(normX ** 2 - norm(core) ** 2)\n"
     ]
    }
   ],
   "source": [
    "S_list, U_list = getSandUList(TRAIN_X, TRAIN_Y)"
   ]
  },
  {
   "cell_type": "code",
   "execution_count": 33,
   "id": "6abe3b56-1d7f-4544-8c1f-b20f43d50fc9",
   "metadata": {},
   "outputs": [
    {
     "data": {
      "text/plain": [
       "((16, 16, 1194), (16, 16), (16, 16), (1194, 1194))"
      ]
     },
     "execution_count": 33,
     "metadata": {},
     "output_type": "execute_result"
    }
   ],
   "source": [
    "U1, U2, U3 = U_list[0]\n",
    "S = S_list[0]\n",
    "S.shape, U1.shape, U2.shape, U3.shape"
   ]
  },
  {
   "cell_type": "code",
   "execution_count": 35,
   "id": "bd4ff03b-99e1-46b3-bc8c-bbef275221dd",
   "metadata": {},
   "outputs": [
    {
     "data": {
      "text/plain": [
       "((16, 16, 658), (16, 16), (16, 16), (658, 658))"
      ]
     },
     "execution_count": 35,
     "metadata": {},
     "output_type": "execute_result"
    }
   ],
   "source": [
    "U1, U2, U3 = U_list[3]\n",
    "S = S_list[3]\n",
    "S.shape, U1.shape, U2.shape, U3.shape"
   ]
  },
  {
   "cell_type": "code",
   "execution_count": 37,
   "id": "49e1e3bb-dbbd-438d-bdf5-de2f3053a57a",
   "metadata": {},
   "outputs": [],
   "source": [
    "basis = 12\n",
    "\n",
    "k_list = [item+1 for item in range(basis)]\n",
    "\n",
    "pred_result = {\n",
    "    i: { \"mse\": None, \"pred_list\": None } for i in k_list\n",
    "}\n",
    "\n",
    "pred_detail_result = {\n",
    "    i: { \"residual_list\": None, \"min_residual_list\": None } for i in k_list\n",
    "}\n",
    "\n",
    "result_residual = []  # 用於存放每次迭代的殘差\n",
    "\n",
    "def hosvdAlgorithm (x_Data, y_Data, S_list, U_list):\n",
    "    x_Data = x_Data.astype('float32') / 255.\n",
    "    x_Data = x_Data.reshape((len(x_Data), np.prod(x_Data.shape[1:])))\n",
    "\n",
    "    # 迭代不同 k 值\n",
    "    for k in k_list:\n",
    "        n_Data = x_Data.shape[0]  # 總樣本數\n",
    "        y_predict = np.ones(n_Data, dtype=int)  # 存放預測的數字\n",
    "        result_single = np.ones(n_Data)  # 存放每個樣本的最小殘差\n",
    "\n",
    "        # 迭代每個樣本\n",
    "        for i in range(n_Data):\n",
    "            z = x_Data[i][:].reshape([16, 16])  # 取得第 i 個樣本的特徵向量\n",
    "            residual_list = np.ones((10))  # 存放每個數字的殘差\n",
    "\n",
    "            # 迭代每個數字（0到9）\n",
    "            for d in range(10):\n",
    "                U1, U2, U3 = U_list[d]\n",
    "                S = S_list[d]\n",
    "                \n",
    "                Sigma = np.zeros((16, 16))\n",
    "\n",
    "                for j in range(k):\n",
    "                    Aj = U1.dot(S[:,:,j]).dot(U2.T)\n",
    "                    Cj = np.tensordot(z, Aj)/np.tensordot(Aj, Aj)\n",
    "                    Sigma = Sigma + (Cj*Aj)\n",
    "\n",
    "                G = np.linalg.norm(z-Sigma, \"fro\")\n",
    "\n",
    "                residual_list[d] = G\n",
    "\n",
    "            y_predict[i] = np.argmin(residual_list)  # 預測的數字是殘差最小的數字\n",
    "            result_residual.append(residual_list)\n",
    "            result_single[i] = np.amin(residual_list)\n",
    "\n",
    "        pred_result[k][\"mse\"] = np.mean((y_Data / 1.0 - y_predict / 1.0) ** 2)\n",
    "        pred_result[k][\"pred_list\"] = y_predict\n",
    "        pred_detail_result[k][\"residual_list\"] = result_residual\n",
    "        pred_detail_result[k][\"min_residual_list\"] = result_single"
   ]
  },
  {
   "cell_type": "code",
   "execution_count": 39,
   "id": "f91ec074-d0cc-4909-8f8c-7e213685a56c",
   "metadata": {},
   "outputs": [],
   "source": [
    "hosvdAlgorithm(TRAIN_X, TRAIN_Y, S_list, U_list)"
   ]
  },
  {
   "cell_type": "code",
   "execution_count": 40,
   "id": "6654f230-f905-420f-b79c-015c2e7a42ee",
   "metadata": {},
   "outputs": [
    {
     "data": {
      "text/plain": [
       "{1: {'mse': 3.198052393361679, 'pred_list': array([6, 5, 4, ..., 3, 0, 1])},\n",
       " 2: {'mse': 1.4978740913454944, 'pred_list': array([6, 5, 4, ..., 3, 0, 1])},\n",
       " 3: {'mse': 1.2891235770127554, 'pred_list': array([6, 5, 4, ..., 3, 0, 1])},\n",
       " 4: {'mse': 0.9462350843505692, 'pred_list': array([6, 5, 4, ..., 3, 0, 1])},\n",
       " 5: {'mse': 0.7939925936085585, 'pred_list': array([6, 5, 4, ..., 3, 0, 1])},\n",
       " 6: {'mse': 0.7944040597997531, 'pred_list': array([6, 5, 4, ..., 3, 0, 1])},\n",
       " 7: {'mse': 0.7104649567960499, 'pred_list': array([6, 5, 4, ..., 3, 0, 1])},\n",
       " 8: {'mse': 0.5841448360993005, 'pred_list': array([6, 5, 4, ..., 3, 0, 1])},\n",
       " 9: {'mse': 0.5739953367164998, 'pred_list': array([6, 5, 4, ..., 3, 0, 1])},\n",
       " 10: {'mse': 0.5336716499794267, 'pred_list': array([6, 5, 4, ..., 3, 0, 1])},\n",
       " 11: {'mse': 0.5542449595391579, 'pred_list': array([6, 5, 4, ..., 3, 0, 1])},\n",
       " 12: {'mse': 0.5044575504046084, 'pred_list': array([6, 5, 4, ..., 3, 0, 1])}}"
      ]
     },
     "execution_count": 40,
     "metadata": {},
     "output_type": "execute_result"
    }
   ],
   "source": [
    "pred_result"
   ]
  },
  {
   "cell_type": "code",
   "execution_count": 41,
   "id": "2069896d-50f2-4a7b-9aa2-7bebb4ff2829",
   "metadata": {},
   "outputs": [],
   "source": [
    "for k, data in pred_result.items():\n",
    "    TP_list = []\n",
    "    FP_list = []\n",
    "\n",
    "    for index, (label, pred) in enumerate(zip(TRAIN_Y, data[\"pred_list\"])):\n",
    "        if (label == pred):\n",
    "            TP_list.append(index)\n",
    "        else:\n",
    "            FP_list.append(index)\n",
    "\n",
    "    len_tp_list = len(TP_list)\n",
    "    accuracy = len_tp_list / len(TRAIN_Y)\n",
    "\n",
    "    pred_result[k][\"TP_counts\"] = len(TP_list)\n",
    "    pred_result[k][\"FP_counts\"] = len(FP_list)\n",
    "    pred_result[k][\"accuracy\"] = accuracy\n",
    "\n",
    "    pred_detail_result[k][\"TP_list\"] = TP_list\n",
    "    pred_detail_result[k][\"FP_list\"] = FP_list"
   ]
  },
  {
   "cell_type": "code",
   "execution_count": 45,
   "id": "746584e3-41c3-4209-9e1a-651c967840f2",
   "metadata": {},
   "outputs": [
    {
     "data": {
      "image/png": "[encoded data removed]",
      "text/plain": [
       "<Figure size 640x480 with 1 Axes>"
      ]
     },
     "metadata": {},
     "output_type": "display_data"
    }
   ],
   "source": [
    "import matplotlib.pyplot as plt\n",
    "\n",
    "mse_values = [pred_result[k][\"mse\"] for k in k_list]\n",
    "\n",
    "bars = plt.bar(k_list, mse_values)\n",
    "\n",
    "min_mse_index = mse_values.index(min(mse_values))\n",
    "bars[min_mse_index].set_color('red')\n",
    "\n",
    "min_mse_value = mse_values[min_mse_index]\n",
    "plt.text(min_mse_index + 1, min_mse_value, f'Min MSE\\n{min_mse_value:.3f}', ha='center', va='bottom', color='red')\n",
    "\n",
    "plt.xlabel('k')\n",
    "plt.ylabel('MSE')\n",
    "plt.title('k vs. MSE')\n",
    "\n",
    "plt.show()"
   ]
  },
  {
   "cell_type": "code",
   "execution_count": 47,
   "id": "ec06eb2e-850a-4676-99be-622247815447",
   "metadata": {},
   "outputs": [
    {
     "data": {
      "image/png": "[encoded data removed]",
      "text/plain": [
       "<Figure size 640x480 with 1 Axes>"
      ]
     },
     "metadata": {},
     "output_type": "display_data"
    }
   ],
   "source": [
    "import matplotlib.pyplot as plt\n",
    "\n",
    "accuracy_values = [pred_result[k][\"accuracy\"] for k in k_list]\n",
    "\n",
    "bars = plt.bar(k_list, accuracy_values)\n",
    "\n",
    "max_accuracy_index = accuracy_values.index(max(accuracy_values))\n",
    "bars[max_accuracy_index].set_color('red')\n",
    "\n",
    "max_accuracy_value = mse_values[max_accuracy_index]\n",
    "plt.text(max_accuracy_index + 1, max_accuracy_value, f'Max Acc\\n{max_accuracy_value:.3f}', ha='center', va='bottom', color='red')\n",
    "\n",
    "plt.xlabel('k')\n",
    "plt.ylabel('Acc')\n",
    "plt.title('k vs. Acc')\n",
    "\n",
    "plt.show()"
   ]
  },
  {
   "cell_type": "code",
   "execution_count": 49,
   "id": "4ced2da5-e29c-4b06-a056-b22de1c6dd2f",
   "metadata": {},
   "outputs": [
    {
     "name": "stdout",
     "output_type": "stream",
     "text": [
      "k:1,6166/7291, Acc:0.8457001783020162\n",
      "k:2,6628/7291, Acc:0.9090659717459882\n",
      "k:3,6749/7291, Acc:0.925661774790838\n",
      "k:4,6864/7291, Acc:0.9414346454532986\n",
      "k:5,6944/7291, Acc:0.9524070772184885\n",
      "k:6,6945/7291, Acc:0.9525442326155534\n",
      "k:7,6989/7291, Acc:0.9585790700864079\n",
      "k:8,7024/7291, Acc:0.9633795089836785\n",
      "k:9,7041/7291, Acc:0.9657111507337813\n",
      "k:10,7058/7291, Acc:0.9680427924838843\n",
      "k:11,7069/7291, Acc:0.9695515018515979\n",
      "k:12,7093/7291, Acc:0.9728432313811548\n"
     ]
    }
   ],
   "source": [
    "for k, data in pred_result.items():\n",
    "    print(f\"k:{k},{data['TP_counts']}/{data['TP_counts']+data['FP_counts']}, Acc:{data['accuracy']}\")"
   ]
  },
  {
   "cell_type": "code",
   "execution_count": 51,
   "id": "781a8fc1-90a1-431a-9514-d168a06fd65f",
   "metadata": {},
   "outputs": [
    {
     "data": {
      "image/png": "[encoded data removed]",
      "text/plain": [
       "<Figure size 1000x400 with 10 Axes>"
      ]
     },
     "metadata": {},
     "output_type": "display_data"
    }
   ],
   "source": [
    "fig, axes = plt.subplots(2, 5, figsize=(10, 4), gridspec_kw={'height_ratios': [1, 1]})\n",
    "\n",
    "for i in range(2):\n",
    "    for j in range(5):\n",
    "        index = i * 2 + j\n",
    "        target_index = pred_detail_result[12][\"TP_list\"][:10][index]\n",
    "\n",
    "        image = TRAIN_X[target_index].reshape((16, 16))\n",
    "        label = TRAIN_Y[target_index]\n",
    "        pred = pred_result[12][\"pred_list\"][target_index]\n",
    "\n",
    "        axes[i, j].imshow(image, cmap='gray')\n",
    "        axes[i, j].set_title(f\"label: {label}, pred: {pred}\")\n",
    "        axes[i, j].axis('off')\n",
    "\n",
    "plt.show()"
   ]
  },
  {
   "cell_type": "code",
   "execution_count": null,
   "id": "3b53b70b-dc65-4adb-895b-b909ab6a1f85",
   "metadata": {},
   "outputs": [],
   "source": []
  }
 ],
 "metadata": {
  "kernelspec": {
   "display_name": "Python 3 (ipykernel)",
   "language": "python",
   "name": "python3"
  },
  "language_info": {
   "codemirror_mode": {
    "name": "ipython",
    "version": 3
   },
   "file_extension": ".py",
   "mimetype": "text/x-python",
   "name": "python",
   "nbconvert_exporter": "python",
   "pygments_lexer": "ipython3",
   "version": "3.9.7"
  }
 },
 "nbformat": 4,
 "nbformat_minor": 5
}
